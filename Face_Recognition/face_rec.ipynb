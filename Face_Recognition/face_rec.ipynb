{
 "cells": [
  {
   "cell_type": "code",
   "execution_count": 2,
   "metadata": {},
   "outputs": [],
   "source": [
    "# pip install face-recognition"
   ]
  },
  {
   "cell_type": "code",
   "execution_count": 1,
   "metadata": {},
   "outputs": [],
   "source": [
    "import os\n",
    "import cv2 \n",
    "import numpy as np\n",
    "import face_recognition"
   ]
  },
  {
   "cell_type": "code",
   "execution_count": 2,
   "metadata": {},
   "outputs": [],
   "source": [
    "path='D:\\AI\\OpenCV_Projects\\Face_Recognition\\InputData'"
   ]
  },
  {
   "cell_type": "code",
   "execution_count": 3,
   "metadata": {},
   "outputs": [],
   "source": [
    "images=[]\n",
    "classNames = []"
   ]
  },
  {
   "cell_type": "code",
   "execution_count": 4,
   "metadata": {},
   "outputs": [
    {
     "data": {
      "text/plain": [
       "['Jimin.jpg', 'Jungkook.jpg', 'Taehyung.jpg']"
      ]
     },
     "execution_count": 4,
     "metadata": {},
     "output_type": "execute_result"
    }
   ],
   "source": [
    "os.listdir(path)"
   ]
  },
  {
   "cell_type": "code",
   "execution_count": 5,
   "metadata": {},
   "outputs": [],
   "source": [
    "mylist=os.listdir(path)"
   ]
  },
  {
   "cell_type": "code",
   "execution_count": 6,
   "metadata": {},
   "outputs": [
    {
     "data": {
      "text/plain": [
       "['Jimin.jpg', 'Jungkook.jpg', 'Taehyung.jpg']"
      ]
     },
     "execution_count": 6,
     "metadata": {},
     "output_type": "execute_result"
    }
   ],
   "source": [
    "mylist"
   ]
  },
  {
   "cell_type": "code",
   "execution_count": 7,
   "metadata": {},
   "outputs": [],
   "source": [
    "for cl in mylist:\n",
    "    curentimage=cv2.imread(f'{path}/{cl}')\n",
    "    images.append(curentimage)\n",
    "    classNames.append(os.path.splitext(cl)[0])"
   ]
  },
  {
   "cell_type": "code",
   "execution_count": 8,
   "metadata": {},
   "outputs": [],
   "source": [
    "def findencodings(images):\n",
    "    \n",
    "    #to store enoding\n",
    "    encodelist=[]\n",
    "    \n",
    "    for img in images:\n",
    "        img=cv2.cvtColor(img,cv2.COLOR_BGR2RGB)\n",
    "\n",
    "        encode = face_recognition.face_encodings(img)[0]\n",
    "  \n",
    "        encodelist.append(encode)\n",
    "\n",
    "    return encodelist"
   ]
  },
  {
   "cell_type": "code",
   "execution_count": 9,
   "metadata": {},
   "outputs": [
    {
     "name": "stdout",
     "output_type": "stream",
     "text": [
      "encoding completed\n",
      "3\n"
     ]
    }
   ],
   "source": [
    "encodelistknownfaces = findencodings(images)\n",
    "\n",
    "print(\"encoding completed\")\n",
    "\n",
    "print(len(encodelistknownfaces))"
   ]
  },
  {
   "cell_type": "code",
   "execution_count": 10,
   "metadata": {},
   "outputs": [],
   "source": [
    "cap=cv2.VideoCapture(0)"
   ]
  },
  {
   "cell_type": "code",
   "execution_count": 11,
   "metadata": {},
   "outputs": [
    {
     "name": "stdout",
     "output_type": "stream",
     "text": [
      "TAEHYUNG\n",
      "TAEHYUNG\n",
      "TAEHYUNG\n",
      "TAEHYUNG\n",
      "JUNGKOOK\n",
      "JUNGKOOK\n",
      "JUNGKOOK\n",
      "JUNGKOOK\n",
      "TAEHYUNG\n",
      "JUNGKOOK\n",
      "JUNGKOOK\n",
      "JUNGKOOK\n",
      "JUNGKOOK\n",
      "JUNGKOOK\n",
      "JUNGKOOK\n",
      "JUNGKOOK\n",
      "JUNGKOOK\n",
      "JUNGKOOK\n",
      "JUNGKOOK\n",
      "JUNGKOOK\n",
      "JUNGKOOK\n",
      "JUNGKOOK\n",
      "JUNGKOOK\n",
      "JUNGKOOK\n",
      "JUNGKOOK\n",
      "JUNGKOOK\n",
      "JUNGKOOK\n",
      "JIMIN\n",
      "JIMIN\n",
      "JIMIN\n",
      "JIMIN\n",
      "JIMIN\n",
      "JUNGKOOK\n",
      "JUNGKOOK\n",
      "JUNGKOOK\n",
      "JUNGKOOK\n",
      "JUNGKOOK\n",
      "JUNGKOOK\n",
      "JUNGKOOK\n",
      "JUNGKOOK\n",
      "JUNGKOOK\n",
      "JUNGKOOK\n",
      "JUNGKOOK\n",
      "JUNGKOOK\n",
      "JUNGKOOK\n",
      "JUNGKOOK\n",
      "JUNGKOOK\n",
      "TAEHYUNG\n",
      "JUNGKOOK\n",
      "TAEHYUNG\n",
      "TAEHYUNG\n",
      "JUNGKOOK\n",
      "TAEHYUNG\n",
      "TAEHYUNG\n",
      "TAEHYUNG\n",
      "TAEHYUNG\n",
      "JUNGKOOK\n",
      "TAEHYUNG\n",
      "JUNGKOOK\n",
      "TAEHYUNG\n"
     ]
    },
    {
     "ename": "",
     "evalue": "",
     "output_type": "error",
     "traceback": [
      "\u001b[1;31mCanceled future for execute_request message before replies were done"
     ]
    },
    {
     "ename": "",
     "evalue": "",
     "output_type": "error",
     "traceback": [
      "\u001b[1;31mThe Kernel crashed while executing code in the the current cell or a previous cell. Please review the code in the cell(s) to identify a possible cause of the failure. Click <a href='https://aka.ms/vscodeJupyterKernelCrash'>here</a> for more info. View Jupyter <a href='command:jupyter.viewOutput'>log</a> for further details."
     ]
    }
   ],
   "source": [
    "while True:\n",
    "    success,img=cap.read()\n",
    "    imgsmall=cv2.resize(img,(0,0),None,0.25,0.25)\n",
    "    # imgsmall=cv2.cvtColor(img,cv2.COLOR_BGR2RGB)\n",
    "\n",
    "#find location of faces \n",
    "    faces_in_frame = face_recognition.face_locations(imgsmall)\n",
    "#find encoding of webcam  by collecting location of faces\n",
    "    encoded_faces = face_recognition.face_encodings(imgsmall,faces_in_frame)\n",
    "\n",
    "\n",
    "#compare all faces in imagelist and webcam faces to match faces\n",
    "    for encodeface,faceloc in zip(encoded_faces,faces_in_frame): #zip used to do in same loop\n",
    "        matches=face_recognition.compare_faces(encodelistknownfaces,encodeface)\n",
    "        facedistance=face_recognition.face_distance(encodelistknownfaces,encodeface)\n",
    "\n",
    "        #lower the distance higher the  maccthing\n",
    "        # print(facedistance)\n",
    "\n",
    "        matchIndex=np.argmin(facedistance) # to get index\n",
    "        if matches[matchIndex]:\n",
    "            name = classNames[matchIndex].upper()\n",
    "            y1,x2,y2,x1 = faceloc\n",
    "            # since we scaled down by 4 times\n",
    "            y1, x2,y2,x1 = y1*4,x2*4,y2*4,x1*4 #to scale up by 4 times ,because we scaled dowm as imgsmall\n",
    "            cv2.rectangle(img,(x1,y1),(x2,y2),(0,255,0),2)\n",
    "            cv2.rectangle(img, (x1,y2-35),(x2,y2), (0,255,0), cv2.FILLED)\n",
    "            cv2.putText(img,name, (x1+6,y2-5), cv2.FONT_HERSHEY_COMPLEX,1,(255,255,255),2)\n",
    "            print(name)\n",
    "    cv2.imshow('webcam', img)\n",
    "    if cv2.waitKey(1) & 0xFF == ord('q'):\n",
    "        break            "
   ]
  },
  {
   "cell_type": "code",
   "execution_count": null,
   "metadata": {},
   "outputs": [],
   "source": []
  }
 ],
 "metadata": {
  "kernelspec": {
   "display_name": "Python 3.9.7 ('base')",
   "language": "python",
   "name": "python3"
  },
  "language_info": {
   "codemirror_mode": {
    "name": "ipython",
    "version": 3
   },
   "file_extension": ".py",
   "mimetype": "text/x-python",
   "name": "python",
   "nbconvert_exporter": "python",
   "pygments_lexer": "ipython3",
   "version": "3.9.7"
  },
  "orig_nbformat": 4,
  "vscode": {
   "interpreter": {
    "hash": "dc07d24e2f18896857f0b2a651fe84ba40ce7b297e58d8804a308c8039f752a6"
   }
  }
 },
 "nbformat": 4,
 "nbformat_minor": 2
}
