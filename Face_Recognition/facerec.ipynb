{
 "cells": [
  {
   "cell_type": "code",
   "execution_count": 1,
   "metadata": {},
   "outputs": [],
   "source": [
    "import cv2 as cv\n",
    "import numpy as np\n",
    "import os\n",
    "import face_recognition"
   ]
  },
  {
   "cell_type": "code",
   "execution_count": 2,
   "metadata": {},
   "outputs": [],
   "source": [
    "path=\"D:\\AI\\OpenCV_Projects\\Face_Recognition\\InputData\""
   ]
  },
  {
   "cell_type": "code",
   "execution_count": 3,
   "metadata": {},
   "outputs": [],
   "source": [
    "images=[]  # to store images\n",
    "classNames=[] # to store image names"
   ]
  },
  {
   "cell_type": "code",
   "execution_count": 4,
   "metadata": {},
   "outputs": [
    {
     "data": {
      "text/plain": [
       "['Jimin.jpg', 'Jungkook.jpg', 'Taehyung.jpg']"
      ]
     },
     "execution_count": 4,
     "metadata": {},
     "output_type": "execute_result"
    }
   ],
   "source": [
    "os.listdir(\"D:\\AI\\OpenCV_Projects\\Face_Recognition\\InputData\")"
   ]
  },
  {
   "cell_type": "code",
   "execution_count": 5,
   "metadata": {},
   "outputs": [],
   "source": [
    "my_list=os.listdir(\"D:\\AI\\OpenCV_Projects\\Face_Recognition\\InputData\")"
   ]
  },
  {
   "cell_type": "code",
   "execution_count": 6,
   "metadata": {},
   "outputs": [],
   "source": [
    "# storing images and image names in list\n",
    "for cl in my_list:\n",
    "    current_image=cv.imread(f\"{path}/{cl}\")\n",
    "    images.append(current_image)\n",
    "    classNames.append(os.path.splitext(cl)[0])"
   ]
  },
  {
   "cell_type": "code",
   "execution_count": 7,
   "metadata": {},
   "outputs": [
    {
     "data": {
      "text/plain": [
       "array([[[ 32,   2, 239],\n",
       "        [ 32,   2, 239],\n",
       "        [ 32,   1, 240],\n",
       "        ...,\n",
       "        [  4,   1, 211],\n",
       "        [  4,   1, 211],\n",
       "        [  4,   1, 211]],\n",
       "\n",
       "       [[ 32,   2, 239],\n",
       "        [ 32,   2, 239],\n",
       "        [ 32,   1, 240],\n",
       "        ...,\n",
       "        [  4,   1, 211],\n",
       "        [  4,   1, 211],\n",
       "        [  4,   1, 211]],\n",
       "\n",
       "       [[ 33,   1, 239],\n",
       "        [ 33,   1, 239],\n",
       "        [ 33,   1, 239],\n",
       "        ...,\n",
       "        [  3,   0, 210],\n",
       "        [  3,   0, 209],\n",
       "        [  3,   0, 209]],\n",
       "\n",
       "       ...,\n",
       "\n",
       "       [[143,  47, 247],\n",
       "        [144,  48, 248],\n",
       "        [145,  49, 249],\n",
       "        ...,\n",
       "        [156,  81, 255],\n",
       "        [154,  79, 255],\n",
       "        [152,  77, 253]],\n",
       "\n",
       "       [[130,  32, 240],\n",
       "        [131,  33, 241],\n",
       "        [132,  34, 242],\n",
       "        ...,\n",
       "        [151,  75, 253],\n",
       "        [148,  72, 250],\n",
       "        [146,  70, 248]],\n",
       "\n",
       "       [[114,  13, 229],\n",
       "        [114,  13, 229],\n",
       "        [115,  14, 229],\n",
       "        ...,\n",
       "        [140,  63, 244],\n",
       "        [137,  60, 241],\n",
       "        [135,  58, 239]]], dtype=uint8)"
      ]
     },
     "execution_count": 7,
     "metadata": {},
     "output_type": "execute_result"
    }
   ],
   "source": [
    "current_image"
   ]
  },
  {
   "cell_type": "code",
   "execution_count": 8,
   "metadata": {},
   "outputs": [
    {
     "data": {
      "text/plain": [
       "['Jimin', 'Jungkook', 'Taehyung']"
      ]
     },
     "execution_count": 8,
     "metadata": {},
     "output_type": "execute_result"
    }
   ],
   "source": [
    "classNames"
   ]
  },
  {
   "cell_type": "code",
   "execution_count": 9,
   "metadata": {},
   "outputs": [],
   "source": [
    "# find encodings of the known faces\n",
    "def findencodings(images):\n",
    "    encodelist=[]\n",
    "    for img in images:\n",
    "        img=cv.cvtColor(img,cv.COLOR_BGR2RGB)\n",
    "        encode=face_recognition.face_encodings(img)[0]\n",
    "        encodelist.append(encode)\n",
    "    return encodelist"
   ]
  },
  {
   "cell_type": "code",
   "execution_count": 10,
   "metadata": {},
   "outputs": [],
   "source": [
    "encodelistKnownfaces=findencodings(images)"
   ]
  },
  {
   "cell_type": "code",
   "execution_count": 11,
   "metadata": {},
   "outputs": [
    {
     "data": {
      "text/plain": [
       "[array([-6.73349351e-02,  2.52652410e-02,  5.53212352e-02, -4.99331951e-02,\n",
       "        -1.59666315e-01, -1.10130878e-02, -1.16539903e-01, -1.16850026e-01,\n",
       "         1.16760947e-01, -1.13805845e-01,  2.46200949e-01, -7.31144324e-02,\n",
       "        -2.04934359e-01, -2.05579009e-02, -7.40199238e-02,  1.62548959e-01,\n",
       "        -1.56218275e-01, -1.23323172e-01,  4.29976806e-02,  1.14628160e-02,\n",
       "         4.69566844e-02,  1.46621102e-02, -3.26222479e-02,  3.21737789e-02,\n",
       "        -1.25203341e-01, -2.93564260e-01, -1.22095674e-01, -1.01296857e-01,\n",
       "        -6.02063015e-02, -6.80747554e-02, -1.27628565e-01,  2.94259582e-02,\n",
       "        -1.36042610e-01, -4.18516695e-02,  5.91321327e-02,  1.53673425e-01,\n",
       "         7.32654799e-03, -3.25285718e-02,  1.24796696e-01,  4.80177812e-02,\n",
       "        -2.15018243e-01,  7.75221363e-02,  6.19726181e-02,  2.26863921e-01,\n",
       "         1.40820891e-01,  6.99731335e-02, -1.32709891e-02, -2.12374389e-01,\n",
       "         1.33758247e-01, -1.49774730e-01,  9.91263613e-02,  1.24508508e-01,\n",
       "         1.13548197e-01,  4.55331728e-02,  2.23359335e-02, -1.39429361e-01,\n",
       "         7.98408594e-03,  1.33852899e-01, -1.45853505e-01,  5.84073253e-02,\n",
       "         9.25080031e-02, -9.98673495e-03,  2.02188399e-02, -1.44488618e-01,\n",
       "         2.22871125e-01,  1.06858820e-01, -1.17449559e-01, -1.64213091e-01,\n",
       "         1.19135290e-01, -1.45865619e-01, -1.84520677e-01,  6.25383630e-02,\n",
       "        -1.27285987e-01, -1.97923377e-01, -3.28751773e-01,  1.05066830e-02,\n",
       "         4.18624878e-01,  1.31652758e-01, -2.64205426e-01,  1.53092667e-04,\n",
       "        -3.26043814e-02, -7.57684559e-02,  1.35113254e-01,  1.56877220e-01,\n",
       "         3.53895873e-02,  3.36407945e-02, -1.00033455e-01, -7.18234405e-02,\n",
       "         2.74555445e-01, -6.91171288e-02,  1.65626630e-02,  1.97571814e-01,\n",
       "         5.29289246e-05,  1.36316016e-01,  4.05758284e-02,  5.83100840e-02,\n",
       "        -9.69478041e-02,  1.71977058e-02, -1.76277831e-01, -8.66884664e-02,\n",
       "        -5.84394559e-02, -6.10190332e-02, -4.73637171e-02,  1.21271111e-01,\n",
       "        -1.91872060e-01,  1.23165414e-01,  1.59303993e-02, -4.94557582e-02,\n",
       "        -2.69641038e-02,  1.61798783e-02, -6.22223020e-02, -5.44387475e-02,\n",
       "         1.81536838e-01, -2.66901433e-01,  1.64963946e-01,  1.66996077e-01,\n",
       "         1.20602213e-01,  1.26173109e-01,  1.07538022e-01,  8.73880312e-02,\n",
       "        -4.41506058e-02, -5.45489602e-02, -2.16182679e-01, -3.48798819e-02,\n",
       "         3.94470692e-02, -4.32483964e-02,  5.87820262e-02,  4.78560925e-02]),\n",
       " array([-0.12134431,  0.0631573 , -0.06035152, -0.0719599 , -0.10372832,\n",
       "        -0.01640252, -0.09249075, -0.06892981,  0.135002  , -0.07566373,\n",
       "         0.19971576, -0.04279508, -0.18537937, -0.09986469, -0.07711401,\n",
       "         0.15148033, -0.17490473, -0.13428335, -0.0089915 ,  0.01122487,\n",
       "         0.12654002,  0.04422645, -0.04134074,  0.06572782, -0.15951386,\n",
       "        -0.31516621, -0.0603176 , -0.06510791, -0.00545734, -0.0567882 ,\n",
       "        -0.01568494, -0.01877316, -0.20911326, -0.01226984,  0.09329408,\n",
       "         0.09887129,  0.00112336, -0.00340245,  0.18162602,  0.03317366,\n",
       "        -0.25274071,  0.0200595 ,  0.09748851,  0.23483789,  0.18228613,\n",
       "         0.06608671, -0.01552398, -0.20161603,  0.18735288, -0.14689374,\n",
       "         0.04963834,  0.17316064,  0.06669109,  0.06458142, -0.01144367,\n",
       "        -0.12665658,  0.03004065,  0.17686464, -0.14665936,  0.00894606,\n",
       "         0.06429732, -0.04166912, -0.02080216, -0.08515519,  0.19146235,\n",
       "         0.01544084, -0.12343739, -0.2466547 ,  0.1189728 , -0.18624796,\n",
       "        -0.12533374,  0.10033695, -0.10356199, -0.21482861, -0.33867687,\n",
       "         0.02198696,  0.36227396,  0.16448621, -0.18302692,  0.07427695,\n",
       "        -0.00300545, -0.03316922,  0.14728177,  0.15099169, -0.01376589,\n",
       "         0.03580819, -0.08217055, -0.0065505 ,  0.28915793, -0.02068504,\n",
       "         0.00484639,  0.19497058,  0.01029087,  0.13217644,  0.0007195 ,\n",
       "         0.00902935, -0.12242942,  0.04384882, -0.13845259, -0.0535462 ,\n",
       "        -0.00399607,  0.04012237,  0.04462564,  0.15170859, -0.15278813,\n",
       "         0.1695901 , -0.002188  ,  0.00103589, -0.0423595 ,  0.00361219,\n",
       "        -0.06251936, -0.03980038,  0.09168995, -0.18435135,  0.24681559,\n",
       "         0.12327817,  0.18077277,  0.11363906,  0.17237101,  0.02380533,\n",
       "         0.00104952, -0.01127345, -0.23795539,  0.00140035,  0.07438563,\n",
       "        -0.0822392 ,  0.14283988, -0.03356127]),\n",
       " array([-0.07257655,  0.03521034,  0.00982895, -0.0927681 , -0.15995036,\n",
       "        -0.04115762, -0.08212445, -0.10394184,  0.14567804, -0.12762339,\n",
       "         0.21345985, -0.08666614, -0.19256371, -0.03069412, -0.07075415,\n",
       "         0.1700853 , -0.15779287, -0.19327803, -0.04357068,  0.02867484,\n",
       "         0.0422244 ,  0.02496955, -0.02101747,  0.06835182, -0.17034461,\n",
       "        -0.35337058, -0.09593021, -0.07900439, -0.04289577, -0.07356647,\n",
       "         0.01345097,  0.04305143, -0.2115325 ,  0.01072554,  0.02270498,\n",
       "         0.05421745,  0.0229187 , -0.05923738,  0.15941636,  0.00446007,\n",
       "        -0.33932304,  0.07933483,  0.07022926,  0.22314058,  0.13528793,\n",
       "         0.03281632,  0.02580201, -0.16862023,  0.07551044, -0.11552772,\n",
       "         0.06368164,  0.13500422,  0.06133534, -0.0172509 , -0.00243118,\n",
       "        -0.11576355,  0.00361833,  0.11284563, -0.14766112,  0.01462235,\n",
       "         0.10426054,  0.02361989, -0.01036919, -0.1087804 ,  0.22339593,\n",
       "         0.03121675, -0.11480535, -0.20574565,  0.13188566, -0.18282552,\n",
       "        -0.11641642,  0.10610417, -0.15734899, -0.22543728, -0.34329021,\n",
       "         0.03165751,  0.3907907 ,  0.13741091, -0.17099427,  0.10242601,\n",
       "        -0.00465251,  0.0042896 ,  0.08753294,  0.16031517, -0.02723285,\n",
       "         0.09165085, -0.07355245,  0.05388513,  0.27782935, -0.02935309,\n",
       "        -0.04760768,  0.22489706, -0.00086848,  0.04645171, -0.00309657,\n",
       "        -0.00218383, -0.04778161,  0.02320465, -0.1371471 , -0.0185166 ,\n",
       "         0.06349294,  0.07203265, -0.0062067 ,  0.15325478, -0.14038375,\n",
       "         0.11209427, -0.01562726, -0.02281982, -0.01541743,  0.09810024,\n",
       "        -0.09057315, -0.10805172,  0.12818068, -0.21453166,  0.17285295,\n",
       "         0.13837081,  0.16113205,  0.06860048,  0.15988208,  0.02194857,\n",
       "         0.0082171 ,  0.00372248, -0.23376153, -0.00286243,  0.13146698,\n",
       "        -0.07313983,  0.17276192,  0.03509624])]"
      ]
     },
     "execution_count": 11,
     "metadata": {},
     "output_type": "execute_result"
    }
   ],
   "source": [
    "encodelistKnownfaces"
   ]
  },
  {
   "cell_type": "code",
   "execution_count": 12,
   "metadata": {},
   "outputs": [],
   "source": [
    "cap=cv.VideoCapture(0)"
   ]
  },
  {
   "cell_type": "code",
   "execution_count": 14,
   "metadata": {},
   "outputs": [
    {
     "ename": "",
     "evalue": "",
     "output_type": "error",
     "traceback": [
      "\u001b[1;31mCanceled future for execute_request message before replies were done"
     ]
    },
    {
     "ename": "",
     "evalue": "",
     "output_type": "error",
     "traceback": [
      "\u001b[1;31mThe Kernel crashed while executing code in the the current cell or a previous cell. Please review the code in the cell(s) to identify a possible cause of the failure. Click <a href='https://aka.ms/vscodeJupyterKernelCrash'>here</a> for more info. View Jupyter <a href='command:jupyter.viewOutput'>log</a> for further details."
     ]
    }
   ],
   "source": [
    "while True:\n",
    "    ret,img=cap.read()\n",
    "    imagesmall=cv.resize(img,(0,0),None,0.25,0.25)\n",
    "    faces_in_frame=face_recognition.face_locations(imagesmall)\n",
    "    encoded_faces=face_recognition.face_encodings(imagesmall,faces_in_frame)\n",
    "\n",
    "    for encodeface,faceloc in zip(encoded_faces,faces_in_frame):\n",
    "        matches=face_recognition.compare_faces(encodelistKnownfaces,encodeface)\n",
    "        distance=face_recognition.face_distance(encodelistKnownfaces,encodeface)\n",
    "        matchIndex=np.argmin(distance) # to get index\n",
    "        if matches[matchIndex]== True:\n",
    "            name = classNames[matchIndex].upper() \n",
    "            y1,x2,y2,x1 = faceloc\n",
    "            # since we scaled down by 4 times\n",
    "            y1, x2,y2,x1 = y1*4,x2*4,y2*4,x1*4 #to scale up by 4 times ,because we scaled dowm as imgsmall\n",
    "            cv.rectangle(img,(x1,y1),(x2,y2),(0,255,0),2)\n",
    "            cv.rectangle(img, (x1,y2-35),(x2,y2), (0,255,0), cv.FILLED)\n",
    "            cv.putText(img,name, (x1+6,y2-5), cv.FONT_HERSHEY_COMPLEX,1,(255,255,255),2)\n",
    "            print(name)\n",
    "        else:\n",
    "            y1,x2,y2,x1 = faceloc\n",
    "            # since we scaled down by 4 times\n",
    "            y1, x2,y2,x1 = y1*4,x2*4,y2*4,x1*4 #to scale up by 4 times ,because we scaled dowm as imgsmall\n",
    "            cv.rectangle(img,(x1,y1),(x2,y2),(0,255,0),2)\n",
    "            cv.rectangle(img, (x1,y2),(x2,y2), (0,255,0), cv.FILLED)\n",
    "            cv.putText(img,\"You are not eligible\", (x1+6,y2-5), cv.FONT_HERSHEY_COMPLEX,1,(255,255,255),2)\n",
    "\n",
    "\n",
    "    cv.imshow('webcam', img)\n",
    "    if cv.waitKey(1) & 0xFF == ord('q'):\n",
    "        break\n",
    "    cv.destroyAllWindows()\n",
    "\n"
   ]
  },
  {
   "cell_type": "code",
   "execution_count": null,
   "metadata": {},
   "outputs": [],
   "source": []
  }
 ],
 "metadata": {
  "kernelspec": {
   "display_name": "Python 3.10.2 64-bit",
   "language": "python",
   "name": "python3"
  },
  "language_info": {
   "codemirror_mode": {
    "name": "ipython",
    "version": 3
   },
   "file_extension": ".py",
   "mimetype": "text/x-python",
   "name": "python",
   "nbconvert_exporter": "python",
   "pygments_lexer": "ipython3",
   "version": "3.10.2"
  },
  "orig_nbformat": 4,
  "vscode": {
   "interpreter": {
    "hash": "a9cff5a362bc38ef45d817ae74b1af54d6a076e3d773891282bce078b815ba34"
   }
  }
 },
 "nbformat": 4,
 "nbformat_minor": 2
}
